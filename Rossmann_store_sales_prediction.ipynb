{
 "cells": [
  {
   "cell_type": "markdown",
   "id": "741f35be",
   "metadata": {
    "heading_collapsed": true
   },
   "source": [
    "# 0.0. Imports"
   ]
  },
  {
   "cell_type": "code",
   "execution_count": 33,
   "id": "b74b2a18",
   "metadata": {
    "ExecuteTime": {
     "end_time": "2022-09-08T03:55:35.596513Z",
     "start_time": "2022-09-08T03:55:35.588070Z"
    },
    "hidden": true
   },
   "outputs": [],
   "source": [
    "import pandas as pd\n",
    "import inflection\n",
    "import math\n",
    "import numpy as np\n",
    "import seaborn as sns\n",
    "from matplotlib import pyplot as plt\n",
    "from IPython.display import Image\n",
    "import datetime"
   ]
  },
  {
   "cell_type": "markdown",
   "id": "12b1935c",
   "metadata": {
    "heading_collapsed": true,
    "hidden": true
   },
   "source": [
    "## 0.2. Loading Data"
   ]
  },
  {
   "cell_type": "code",
   "execution_count": 2,
   "id": "ddf717dc",
   "metadata": {
    "ExecuteTime": {
     "end_time": "2022-09-08T03:36:25.397590Z",
     "start_time": "2022-09-08T03:36:24.918897Z"
    },
    "hidden": true
   },
   "outputs": [],
   "source": [
    "df_sales_raw = pd.read_csv('Data/train.csv', low_memory=False)\n",
    "df_store_raw = pd.read_csv('Data/store.csv', low_memory=False)\n",
    "\n",
    "# Merge\n",
    "df_raw = pd.merge(df_sales_raw, df_store_raw, how='left', on='Store')"
   ]
  },
  {
   "cell_type": "markdown",
   "id": "0dd6da2a",
   "metadata": {
    "heading_collapsed": true
   },
   "source": [
    "# 1.0. Data Description"
   ]
  },
  {
   "cell_type": "code",
   "execution_count": 3,
   "id": "0f341ee2",
   "metadata": {
    "ExecuteTime": {
     "end_time": "2022-09-08T03:36:25.504338Z",
     "start_time": "2022-09-08T03:36:25.398595Z"
    },
    "hidden": true
   },
   "outputs": [],
   "source": [
    "df1 = df_raw.copy()"
   ]
  },
  {
   "cell_type": "markdown",
   "id": "7d841c5a",
   "metadata": {
    "heading_collapsed": true,
    "hidden": true
   },
   "source": [
    "## 1.1. Rename Columns"
   ]
  },
  {
   "cell_type": "code",
   "execution_count": 4,
   "id": "cba71280",
   "metadata": {
    "ExecuteTime": {
     "end_time": "2022-09-08T03:36:25.509041Z",
     "start_time": "2022-09-08T03:36:25.505754Z"
    },
    "hidden": true
   },
   "outputs": [],
   "source": [
    "cols_old = ['Store', 'DayOfWeek', 'Date', 'Sales', 'Customers', 'Open', 'Promo','StateHoliday', 'SchoolHoliday',               'StoreType', 'Assortment','CompetitionDistance', 'CompetitionOpenSinceMonth',\n",
    "            'CompetitionOpenSinceYear', 'Promo2', 'Promo2SinceWeek','Promo2SinceYear', 'PromoInterval']\n",
    "\n",
    "snakecase = lambda x: inflection.underscore(x)\n",
    "\n",
    "cols_new = list(map(snakecase, cols_old))\n",
    "\n",
    "# Rename\n",
    "df1.columns = cols_new"
   ]
  },
  {
   "cell_type": "markdown",
   "id": "b28a2b84",
   "metadata": {
    "heading_collapsed": true,
    "hidden": true
   },
   "source": [
    "## 1.2. Data Dimensions"
   ]
  },
  {
   "cell_type": "code",
   "execution_count": 5,
   "id": "d15f7959",
   "metadata": {
    "ExecuteTime": {
     "end_time": "2022-09-08T03:36:25.514321Z",
     "start_time": "2022-09-08T03:36:25.510034Z"
    },
    "hidden": true
   },
   "outputs": [
    {
     "name": "stdout",
     "output_type": "stream",
     "text": [
      "Number of Rows: 1017209\n",
      "Number of Cols: 18\n"
     ]
    }
   ],
   "source": [
    "print('Number of Rows: {}'.format(df1.shape[0]))\n",
    "print('Number of Cols: {}'.format(df1.shape[1]))"
   ]
  },
  {
   "cell_type": "markdown",
   "id": "1afafd07",
   "metadata": {
    "heading_collapsed": true,
    "hidden": true
   },
   "source": [
    "## 1.3. Data Types"
   ]
  },
  {
   "cell_type": "code",
   "execution_count": 6,
   "id": "a97eaba2",
   "metadata": {
    "ExecuteTime": {
     "end_time": "2022-09-08T03:36:25.592680Z",
     "start_time": "2022-09-08T03:36:25.515266Z"
    },
    "hidden": true
   },
   "outputs": [
    {
     "data": {
      "text/plain": [
       "store                                    int64\n",
       "day_of_week                              int64\n",
       "date                            datetime64[ns]\n",
       "sales                                    int64\n",
       "customers                                int64\n",
       "open                                     int64\n",
       "promo                                    int64\n",
       "state_holiday                           object\n",
       "school_holiday                           int64\n",
       "store_type                              object\n",
       "assortment                              object\n",
       "competition_distance                   float64\n",
       "competition_open_since_month           float64\n",
       "competition_open_since_year            float64\n",
       "promo2                                   int64\n",
       "promo2_since_week                      float64\n",
       "promo2_since_year                      float64\n",
       "promo_interval                          object\n",
       "dtype: object"
      ]
     },
     "execution_count": 6,
     "metadata": {},
     "output_type": "execute_result"
    }
   ],
   "source": [
    "df1['date'] = pd.to_datetime(df1['date'])\n",
    "df1.dtypes"
   ]
  },
  {
   "cell_type": "markdown",
   "id": "cb2029cc",
   "metadata": {
    "heading_collapsed": true,
    "hidden": true
   },
   "source": [
    "## 1.4. Check NA"
   ]
  },
  {
   "cell_type": "code",
   "execution_count": 7,
   "id": "0ca07f43",
   "metadata": {
    "ExecuteTime": {
     "end_time": "2022-09-08T03:36:25.936629Z",
     "start_time": "2022-09-08T03:36:25.593610Z"
    },
    "hidden": true
   },
   "outputs": [
    {
     "data": {
      "text/plain": [
       "store                                0\n",
       "day_of_week                          0\n",
       "date                                 0\n",
       "sales                                0\n",
       "customers                            0\n",
       "open                                 0\n",
       "promo                                0\n",
       "state_holiday                        0\n",
       "school_holiday                       0\n",
       "store_type                           0\n",
       "assortment                           0\n",
       "competition_distance              2642\n",
       "competition_open_since_month    323348\n",
       "competition_open_since_year     323348\n",
       "promo2                               0\n",
       "promo2_since_week               508031\n",
       "promo2_since_year               508031\n",
       "promo_interval                  508031\n",
       "dtype: int64"
      ]
     },
     "execution_count": 7,
     "metadata": {},
     "output_type": "execute_result"
    }
   ],
   "source": [
    "df1.isna().sum()"
   ]
  },
  {
   "cell_type": "markdown",
   "id": "a0bb5e52",
   "metadata": {
    "heading_collapsed": true,
    "hidden": true
   },
   "source": [
    "## 1.5. Fillout NA"
   ]
  },
  {
   "cell_type": "code",
   "execution_count": 8,
   "id": "6e2a7f9a",
   "metadata": {
    "ExecuteTime": {
     "end_time": "2022-09-08T03:37:12.901090Z",
     "start_time": "2022-09-08T03:36:25.937550Z"
    },
    "hidden": true
   },
   "outputs": [],
   "source": [
    "#competition_distance\n",
    "df1['competition_distance'] = df1['competition_distance'].apply(lambda x: 200000.0 if math.isnan(x) else x)\n",
    "\n",
    "#competition_open_since_month\n",
    "df1['competition_open_since_month'] = df1.apply(lambda x: x['date'].month if math.isnan(x['competition_open_since_month']) else x['competition_open_since_month'], axis=1)\n",
    "\n",
    "#competition_open_since_year \n",
    "df1['competition_open_since_year'] = df1.apply(lambda x: x['date'].year if math.isnan(x['competition_open_since_year']) else x['competition_open_since_year'], axis=1)\n",
    "                      \n",
    "#promo2_since_week           \n",
    "df1['promo2_since_week'] = df1.apply(lambda x: x['date'].week if math.isnan(x['promo2_since_week']) else x['promo2_since_week'], axis=1)\n",
    "\n",
    "#promo2_since_year    \n",
    "df1['promo2_since_year'] = df1.apply(lambda x: x['date'].year if math.isnan(x['promo2_since_year']) else x['promo2_since_year'], axis=1)\n",
    "\n",
    "#promo_interval\n",
    "month_map = {1: 'Jan', 2: 'Fev', 3: 'Mar', 4: 'Apr', 5: 'May', 6: 'Jun', 7: 'Jul', 8: 'Aug', 9: 'Sep', 10: 'Oct', 11: 'Nov', 12: 'Dec'}\n",
    "\n",
    "df1['promo_interval'].fillna(0, inplace=True)\n",
    "\n",
    "df1['month_map'] = df1['date'].dt.month.map(month_map)\n",
    "\n",
    "df1['is_promo'] = df1[['promo_interval', 'month_map']].apply(lambda x: 0 if x['promo_interval'] == 0 else 1 if x['month_map'] in x['promo_interval'].split(',') else 0, axis=1)\n"
   ]
  },
  {
   "cell_type": "code",
   "execution_count": 9,
   "id": "eeab4c18",
   "metadata": {
    "ExecuteTime": {
     "end_time": "2022-09-08T03:37:13.320361Z",
     "start_time": "2022-09-08T03:37:12.902062Z"
    },
    "hidden": true
   },
   "outputs": [
    {
     "data": {
      "text/plain": [
       "store                           0\n",
       "day_of_week                     0\n",
       "date                            0\n",
       "sales                           0\n",
       "customers                       0\n",
       "open                            0\n",
       "promo                           0\n",
       "state_holiday                   0\n",
       "school_holiday                  0\n",
       "store_type                      0\n",
       "assortment                      0\n",
       "competition_distance            0\n",
       "competition_open_since_month    0\n",
       "competition_open_since_year     0\n",
       "promo2                          0\n",
       "promo2_since_week               0\n",
       "promo2_since_year               0\n",
       "promo_interval                  0\n",
       "month_map                       0\n",
       "is_promo                        0\n",
       "dtype: int64"
      ]
     },
     "execution_count": 9,
     "metadata": {},
     "output_type": "execute_result"
    }
   ],
   "source": [
    "df1.isna().sum() "
   ]
  },
  {
   "cell_type": "markdown",
   "id": "10ab7217",
   "metadata": {
    "heading_collapsed": true,
    "hidden": true
   },
   "source": [
    "## 1.6. Change Types"
   ]
  },
  {
   "cell_type": "code",
   "execution_count": 10,
   "id": "a139f646",
   "metadata": {
    "ExecuteTime": {
     "end_time": "2022-09-08T03:37:13.355516Z",
     "start_time": "2022-09-08T03:37:13.321984Z"
    },
    "hidden": true
   },
   "outputs": [],
   "source": [
    "df1['competition_open_since_month'] = df1['competition_open_since_month'].astype(int)\n",
    "df1['competition_open_since_year'] = df1['competition_open_since_year'].astype(int)\n",
    "\n",
    "df1['promo2_since_week'] = df1['promo2_since_week'].astype(int)\n",
    "df1['promo2_since_year'] = df1['promo2_since_year'].astype(int)"
   ]
  },
  {
   "cell_type": "markdown",
   "id": "e4fab74d",
   "metadata": {
    "heading_collapsed": true,
    "hidden": true
   },
   "source": [
    "## 1.7. Descriptive Statistical"
   ]
  },
  {
   "cell_type": "markdown",
   "id": "257a8719",
   "metadata": {
    "heading_collapsed": true,
    "hidden": true
   },
   "source": [
    "### 1.7.1. Numerical Attributes"
   ]
  },
  {
   "cell_type": "code",
   "execution_count": 11,
   "id": "37cb337f",
   "metadata": {
    "ExecuteTime": {
     "end_time": "2022-09-08T03:37:13.359315Z",
     "start_time": "2022-09-08T03:37:13.356633Z"
    },
    "hidden": true
   },
   "outputs": [],
   "source": [
    "num_attributes = df1.select_dtypes(include=['int64', 'float64'])\n",
    "cat_attributes = df1.select_dtypes(exclude=['int64', 'float64', 'datetime64[ns]'])"
   ]
  },
  {
   "cell_type": "code",
   "execution_count": 12,
   "id": "40651521",
   "metadata": {
    "ExecuteTime": {
     "end_time": "2022-09-08T03:37:15.103841Z",
     "start_time": "2022-09-08T03:37:13.360521Z"
    },
    "hidden": true
   },
   "outputs": [
    {
     "data": {
      "text/html": [
       "<div>\n",
       "<style scoped>\n",
       "    .dataframe tbody tr th:only-of-type {\n",
       "        vertical-align: middle;\n",
       "    }\n",
       "\n",
       "    .dataframe tbody tr th {\n",
       "        vertical-align: top;\n",
       "    }\n",
       "\n",
       "    .dataframe thead th {\n",
       "        text-align: right;\n",
       "    }\n",
       "</style>\n",
       "<table border=\"1\" class=\"dataframe\">\n",
       "  <thead>\n",
       "    <tr style=\"text-align: right;\">\n",
       "      <th></th>\n",
       "      <th>attributes</th>\n",
       "      <th>min</th>\n",
       "      <th>max</th>\n",
       "      <th>range</th>\n",
       "      <th>mean</th>\n",
       "      <th>median</th>\n",
       "      <th>std</th>\n",
       "      <th>skew</th>\n",
       "      <th>kurtosis</th>\n",
       "    </tr>\n",
       "  </thead>\n",
       "  <tbody>\n",
       "    <tr>\n",
       "      <th>0</th>\n",
       "      <td>store</td>\n",
       "      <td>1.0</td>\n",
       "      <td>1115.0</td>\n",
       "      <td>1114.0</td>\n",
       "      <td>558.429727</td>\n",
       "      <td>558.0</td>\n",
       "      <td>321.908493</td>\n",
       "      <td>-0.000955</td>\n",
       "      <td>-1.200524</td>\n",
       "    </tr>\n",
       "    <tr>\n",
       "      <th>1</th>\n",
       "      <td>day_of_week</td>\n",
       "      <td>1.0</td>\n",
       "      <td>7.0</td>\n",
       "      <td>6.0</td>\n",
       "      <td>3.998341</td>\n",
       "      <td>4.0</td>\n",
       "      <td>1.997390</td>\n",
       "      <td>0.001593</td>\n",
       "      <td>-1.246873</td>\n",
       "    </tr>\n",
       "    <tr>\n",
       "      <th>2</th>\n",
       "      <td>sales</td>\n",
       "      <td>0.0</td>\n",
       "      <td>41551.0</td>\n",
       "      <td>41551.0</td>\n",
       "      <td>5773.818972</td>\n",
       "      <td>5744.0</td>\n",
       "      <td>3849.924283</td>\n",
       "      <td>0.641460</td>\n",
       "      <td>1.778375</td>\n",
       "    </tr>\n",
       "    <tr>\n",
       "      <th>3</th>\n",
       "      <td>customers</td>\n",
       "      <td>0.0</td>\n",
       "      <td>7388.0</td>\n",
       "      <td>7388.0</td>\n",
       "      <td>633.145946</td>\n",
       "      <td>609.0</td>\n",
       "      <td>464.411506</td>\n",
       "      <td>1.598650</td>\n",
       "      <td>7.091773</td>\n",
       "    </tr>\n",
       "    <tr>\n",
       "      <th>4</th>\n",
       "      <td>open</td>\n",
       "      <td>0.0</td>\n",
       "      <td>1.0</td>\n",
       "      <td>1.0</td>\n",
       "      <td>0.830107</td>\n",
       "      <td>1.0</td>\n",
       "      <td>0.375539</td>\n",
       "      <td>-1.758045</td>\n",
       "      <td>1.090723</td>\n",
       "    </tr>\n",
       "    <tr>\n",
       "      <th>5</th>\n",
       "      <td>promo</td>\n",
       "      <td>0.0</td>\n",
       "      <td>1.0</td>\n",
       "      <td>1.0</td>\n",
       "      <td>0.381515</td>\n",
       "      <td>0.0</td>\n",
       "      <td>0.485758</td>\n",
       "      <td>0.487838</td>\n",
       "      <td>-1.762018</td>\n",
       "    </tr>\n",
       "    <tr>\n",
       "      <th>6</th>\n",
       "      <td>school_holiday</td>\n",
       "      <td>0.0</td>\n",
       "      <td>1.0</td>\n",
       "      <td>1.0</td>\n",
       "      <td>0.178647</td>\n",
       "      <td>0.0</td>\n",
       "      <td>0.383056</td>\n",
       "      <td>1.677842</td>\n",
       "      <td>0.815154</td>\n",
       "    </tr>\n",
       "    <tr>\n",
       "      <th>7</th>\n",
       "      <td>competition_distance</td>\n",
       "      <td>20.0</td>\n",
       "      <td>200000.0</td>\n",
       "      <td>199980.0</td>\n",
       "      <td>5935.442677</td>\n",
       "      <td>2330.0</td>\n",
       "      <td>12547.646829</td>\n",
       "      <td>10.242344</td>\n",
       "      <td>147.789712</td>\n",
       "    </tr>\n",
       "    <tr>\n",
       "      <th>8</th>\n",
       "      <td>competition_open_since_month</td>\n",
       "      <td>1.0</td>\n",
       "      <td>12.0</td>\n",
       "      <td>11.0</td>\n",
       "      <td>6.786849</td>\n",
       "      <td>7.0</td>\n",
       "      <td>3.311085</td>\n",
       "      <td>-0.042076</td>\n",
       "      <td>-1.232607</td>\n",
       "    </tr>\n",
       "    <tr>\n",
       "      <th>9</th>\n",
       "      <td>competition_open_since_year</td>\n",
       "      <td>1900.0</td>\n",
       "      <td>2015.0</td>\n",
       "      <td>115.0</td>\n",
       "      <td>2010.324840</td>\n",
       "      <td>2012.0</td>\n",
       "      <td>5.515591</td>\n",
       "      <td>-7.235657</td>\n",
       "      <td>124.071304</td>\n",
       "    </tr>\n",
       "    <tr>\n",
       "      <th>10</th>\n",
       "      <td>promo2</td>\n",
       "      <td>0.0</td>\n",
       "      <td>1.0</td>\n",
       "      <td>1.0</td>\n",
       "      <td>0.500564</td>\n",
       "      <td>1.0</td>\n",
       "      <td>0.500000</td>\n",
       "      <td>-0.002255</td>\n",
       "      <td>-1.999999</td>\n",
       "    </tr>\n",
       "    <tr>\n",
       "      <th>11</th>\n",
       "      <td>promo2_since_week</td>\n",
       "      <td>1.0</td>\n",
       "      <td>52.0</td>\n",
       "      <td>51.0</td>\n",
       "      <td>23.619033</td>\n",
       "      <td>22.0</td>\n",
       "      <td>14.310057</td>\n",
       "      <td>0.178723</td>\n",
       "      <td>-1.184046</td>\n",
       "    </tr>\n",
       "    <tr>\n",
       "      <th>12</th>\n",
       "      <td>promo2_since_year</td>\n",
       "      <td>2009.0</td>\n",
       "      <td>2015.0</td>\n",
       "      <td>6.0</td>\n",
       "      <td>2012.793297</td>\n",
       "      <td>2013.0</td>\n",
       "      <td>1.662657</td>\n",
       "      <td>-0.784436</td>\n",
       "      <td>-0.210075</td>\n",
       "    </tr>\n",
       "    <tr>\n",
       "      <th>13</th>\n",
       "      <td>is_promo</td>\n",
       "      <td>0.0</td>\n",
       "      <td>1.0</td>\n",
       "      <td>1.0</td>\n",
       "      <td>0.155231</td>\n",
       "      <td>0.0</td>\n",
       "      <td>0.362124</td>\n",
       "      <td>1.904152</td>\n",
       "      <td>1.625796</td>\n",
       "    </tr>\n",
       "  </tbody>\n",
       "</table>\n",
       "</div>"
      ],
      "text/plain": [
       "                      attributes     min       max     range         mean  \\\n",
       "0                          store     1.0    1115.0    1114.0   558.429727   \n",
       "1                    day_of_week     1.0       7.0       6.0     3.998341   \n",
       "2                          sales     0.0   41551.0   41551.0  5773.818972   \n",
       "3                      customers     0.0    7388.0    7388.0   633.145946   \n",
       "4                           open     0.0       1.0       1.0     0.830107   \n",
       "5                          promo     0.0       1.0       1.0     0.381515   \n",
       "6                 school_holiday     0.0       1.0       1.0     0.178647   \n",
       "7           competition_distance    20.0  200000.0  199980.0  5935.442677   \n",
       "8   competition_open_since_month     1.0      12.0      11.0     6.786849   \n",
       "9    competition_open_since_year  1900.0    2015.0     115.0  2010.324840   \n",
       "10                        promo2     0.0       1.0       1.0     0.500564   \n",
       "11             promo2_since_week     1.0      52.0      51.0    23.619033   \n",
       "12             promo2_since_year  2009.0    2015.0       6.0  2012.793297   \n",
       "13                      is_promo     0.0       1.0       1.0     0.155231   \n",
       "\n",
       "    median           std       skew    kurtosis  \n",
       "0    558.0    321.908493  -0.000955   -1.200524  \n",
       "1      4.0      1.997390   0.001593   -1.246873  \n",
       "2   5744.0   3849.924283   0.641460    1.778375  \n",
       "3    609.0    464.411506   1.598650    7.091773  \n",
       "4      1.0      0.375539  -1.758045    1.090723  \n",
       "5      0.0      0.485758   0.487838   -1.762018  \n",
       "6      0.0      0.383056   1.677842    0.815154  \n",
       "7   2330.0  12547.646829  10.242344  147.789712  \n",
       "8      7.0      3.311085  -0.042076   -1.232607  \n",
       "9   2012.0      5.515591  -7.235657  124.071304  \n",
       "10     1.0      0.500000  -0.002255   -1.999999  \n",
       "11    22.0     14.310057   0.178723   -1.184046  \n",
       "12  2013.0      1.662657  -0.784436   -0.210075  \n",
       "13     0.0      0.362124   1.904152    1.625796  "
      ]
     },
     "execution_count": 12,
     "metadata": {},
     "output_type": "execute_result"
    }
   ],
   "source": [
    "# Central Tendency - mean, median\n",
    "ct1 = pd.DataFrame(num_attributes.apply(np.mean)).T\n",
    "ct2 = pd.DataFrame(num_attributes.apply(np.median)).T\n",
    "\n",
    "# Dispersion - std, min, max, range, skew, kurtosis\n",
    "d1 = pd.DataFrame(num_attributes.apply(np.std)).T\n",
    "d2 = pd.DataFrame(num_attributes.apply(min)).T\n",
    "d3 = pd.DataFrame(num_attributes.apply(max)).T\n",
    "d4 = pd.DataFrame(num_attributes.apply(lambda x: x.max()-x.min())).T\n",
    "d5 = pd.DataFrame(num_attributes.apply(lambda x: x.skew())).T\n",
    "d6 = pd.DataFrame(num_attributes.apply(lambda x: x.kurtosis())).T\n",
    "\n",
    "# Concatenate\n",
    "m = pd.concat([d2,d3,d4,ct1,ct2,d1,d5,d6]).T.reset_index()\n",
    "m.columns = ['attributes', 'min', 'max', 'range', 'mean', 'median','std','skew','kurtosis']\n",
    "\n",
    "m"
   ]
  },
  {
   "cell_type": "markdown",
   "id": "f1735d9f",
   "metadata": {
    "heading_collapsed": true,
    "hidden": true
   },
   "source": [
    "### 1.7.2. Categorical Attributes"
   ]
  },
  {
   "cell_type": "code",
   "execution_count": 13,
   "id": "c78e9b5c",
   "metadata": {
    "ExecuteTime": {
     "end_time": "2022-09-08T03:37:15.244286Z",
     "start_time": "2022-09-08T03:37:15.104796Z"
    },
    "hidden": true
   },
   "outputs": [
    {
     "data": {
      "text/plain": [
       "state_holiday      4\n",
       "store_type         4\n",
       "assortment         3\n",
       "promo_interval     4\n",
       "month_map         12\n",
       "dtype: int64"
      ]
     },
     "execution_count": 13,
     "metadata": {},
     "output_type": "execute_result"
    }
   ],
   "source": [
    "cat_attributes.apply(lambda x: x.unique().shape[0])"
   ]
  },
  {
   "cell_type": "code",
   "execution_count": 14,
   "id": "b7c41882",
   "metadata": {
    "ExecuteTime": {
     "end_time": "2022-09-08T03:37:15.580456Z",
     "start_time": "2022-09-08T03:37:15.245380Z"
    },
    "hidden": true
   },
   "outputs": [
    {
     "data": {
      "text/plain": [
       "<AxesSubplot:xlabel='assortment', ylabel='sales'>"
      ]
     },
     "execution_count": 14,
     "metadata": {},
     "output_type": "execute_result"
    },
    {
     "data": {
      "image/png": "[encoded data removed]",
      "text/plain": [
       "<Figure size 1152x720 with 3 Axes>"
      ]
     },
     "metadata": {
      "needs_background": "light"
     },
     "output_type": "display_data"
    }
   ],
   "source": [
    "aux1 = df1[(df1['state_holiday'] != '0') & (df1['sales']>0)]\n",
    "\n",
    "plt.figure(figsize=(16,10))\n",
    "plt.subplot (1, 3, 1)\n",
    "sns.boxplot(x='state_holiday', y='sales', data=aux1)\n",
    "\n",
    "plt.subplot (1, 3, 2)\n",
    "sns.boxplot(x='store_type', y='sales', data=aux1)\n",
    "\n",
    "plt.subplot (1, 3, 3)\n",
    "sns.boxplot(x='assortment', y='sales', data=aux1)"
   ]
  },
  {
   "cell_type": "markdown",
   "id": "2b311e81",
   "metadata": {
    "heading_collapsed": true
   },
   "source": [
    "# 2.0. - Feature Engineering"
   ]
  },
  {
   "cell_type": "code",
   "execution_count": 15,
   "id": "b7c23cc9",
   "metadata": {
    "ExecuteTime": {
     "end_time": "2022-09-08T03:37:15.619958Z",
     "start_time": "2022-09-08T03:37:15.581552Z"
    },
    "hidden": true
   },
   "outputs": [],
   "source": [
    "df2 = df1.copy()"
   ]
  },
  {
   "cell_type": "markdown",
   "id": "bce09442",
   "metadata": {
    "heading_collapsed": true,
    "hidden": true
   },
   "source": [
    "## 2.1. Mind Map Hypothesis"
   ]
  },
  {
   "cell_type": "code",
   "execution_count": 16,
   "id": "857b1917",
   "metadata": {
    "ExecuteTime": {
     "end_time": "2022-09-08T03:37:15.664971Z",
     "start_time": "2022-09-08T03:37:15.620879Z"
    },
    "hidden": true
   },
   "outputs": [
    {
     "data": {
      "image/png": "[encoded data removed]",
      "text/plain": [
       "<IPython.core.display.Image object>"
      ]
     },
     "execution_count": 16,
     "metadata": {},
     "output_type": "execute_result"
    }
   ],
   "source": [
    "Image ('img/mindmaphypothesis.png')"
   ]
  },
  {
   "cell_type": "markdown",
   "id": "49acd32a",
   "metadata": {
    "heading_collapsed": true,
    "hidden": true
   },
   "source": [
    "## 2.2. Creation of Hypothesis"
   ]
  },
  {
   "cell_type": "markdown",
   "id": "e16ddd08",
   "metadata": {
    "hidden": true
   },
   "source": [
    "### 2.2.1. Store Hypothesis"
   ]
  },
  {
   "cell_type": "markdown",
   "id": "c733fea2",
   "metadata": {
    "ExecuteTime": {
     "end_time": "2022-09-08T03:01:59.676106Z",
     "start_time": "2022-09-08T03:01:59.665518Z"
    },
    "hidden": true
   },
   "source": [
    "**1.** Lojas com número maior de funcionários deveriam vender mais.\n",
    "\n",
    "**2.** Lojas com maior capacidade de estoque deveriam vender mais.\n",
    "\n",
    "**3.** Lojas com maior porte deveriam vender mais.\n",
    "\n",
    "**4.** Lojas com maior sortimento deveriam vender mais.\n",
    "\n",
    "**5.** Lojas com competidores mais próximos deveriam vender menos.\n",
    "\n",
    "**6.** Lojas com competidores a mais tempo deveriam vender mais."
   ]
  },
  {
   "cell_type": "markdown",
   "id": "685a6ca8",
   "metadata": {
    "hidden": true
   },
   "source": [
    "### 2.2.2. Product Hypothesis"
   ]
  },
  {
   "cell_type": "markdown",
   "id": "3aaaa4c1",
   "metadata": {
    "hidden": true
   },
   "source": [
    "**1.** Lojas que investem mais em Marketing deveriam vender mais.\n",
    "\n",
    "**2.** Lojas que expõe mais os produtos na vitrine deveriam vender mais.\n",
    "\n",
    "**3.** Lojas produtos com preços menores deveriam vender mais.\n",
    "\n",
    "**4.** Lojas com promoções mais agressivas (maiores descontos), deveriam vender mais.\n",
    "\n",
    "**5.** Lojas com promoções ativas por mais tempo deveriam vender mais.\n",
    "\n",
    "**6.** Lojas com mais dias de promoção deveriam vender mais.\n",
    "\n",
    "**7.** Lojas com mais promoções consecutivas deveriam vender mais."
   ]
  },
  {
   "cell_type": "markdown",
   "id": "e3b046c1",
   "metadata": {
    "hidden": true
   },
   "source": [
    "### 2.2.3. Time Hypothesis"
   ]
  },
  {
   "cell_type": "markdown",
   "id": "c0f32e60",
   "metadata": {
    "hidden": true
   },
   "source": [
    "**1.** Lojas abertas durante o feriado do Natal deveriam vender mais.\n",
    "\n",
    "**2.** Lojas deveriam vender mais ao longo dos anos.\n",
    "\n",
    "**3.** Lojas deveriam vender mais no segundo sementre do ano.\n",
    "\n",
    "**4.** Lojas deveriam vender mais depois do dia 10 de cada mês.\n",
    "\n",
    "**5.** Lojas deveriam vender menos aos finais de semana.\n",
    "\n",
    "**6.** Lojas deveriam vender menos durante os feriados escolares."
   ]
  },
  {
   "cell_type": "markdown",
   "id": "7fd7d997",
   "metadata": {
    "heading_collapsed": true,
    "hidden": true
   },
   "source": [
    "## 2.3. Final list of Hypothesis"
   ]
  },
  {
   "cell_type": "markdown",
   "id": "8bac5f41",
   "metadata": {
    "hidden": true
   },
   "source": [
    "**1.** Lojas com maior sortimento deveriam vender mais.\n",
    "\n",
    "**2.** Lojas com competidores mais próximos deveriam vender menos.\n",
    "\n",
    "**3.** Lojas com competidores a mais tempo deveriam vender mais.\n",
    "\n",
    "**4.** Lojas com promoções ativas por mais tempo deveriam vender mais.\n",
    "\n",
    "**5.** Lojas com mais dias de promoção deveriam vender mais.\n",
    "\n",
    "**6.** Lojas com mais promoções consecutivas deveriam vender mais.\n",
    "\n",
    "**7.** Lojas abertas durante o feriado do Natal deveriam vender mais.\n",
    "\n",
    "**8.** Lojas deveriam vender mais ao longo dos anos.\n",
    "\n",
    "**9.** Lojas deveriam vender mais no segundo sementre do ano.\n",
    "\n",
    "**10.** Lojas deveriam vender mais depois do dia 10 de cada mês.\n",
    "\n",
    "**11.** Lojas deveriam vender menos aos finais de semana.\n",
    "\n",
    "**12.** Lojas deveriam vender menos durante os feriados escolares."
   ]
  },
  {
   "cell_type": "markdown",
   "id": "596a0579",
   "metadata": {
    "hidden": true
   },
   "source": [
    "## 2.4. Feature Engineering"
   ]
  },
  {
   "cell_type": "code",
   "execution_count": 42,
   "id": "2cc7fc72",
   "metadata": {
    "ExecuteTime": {
     "end_time": "2022-09-08T04:12:42.725982Z",
     "start_time": "2022-09-08T04:12:07.313440Z"
    },
    "hidden": true
   },
   "outputs": [],
   "source": [
    "# Year\n",
    "df2['year'] = df2['date'].dt.year\n",
    "\n",
    "# Month\n",
    "df2['month'] = df2['date'].dt.month\n",
    "\n",
    "# Day\n",
    "df2['day'] = df2['date'].dt.day\n",
    "\n",
    "# Week of year\n",
    "df2['week_of_year'] = df2['date'].dt.isocalendar().week\n",
    "\n",
    "# Year week\n",
    "df2['year_week'] = df2['date'].dt.strftime('%Y-%W')\n",
    "\n",
    "# Competition since\n",
    "df2['competition_since'] = df2.apply(lambda x: datetime.datetime(year=x['competition_open_since_year'], month=x['competition_open_since_month'], day=1), axis=1)\n",
    "df2['competition_time_month'] = ((df2['date'] - df2['competition_since'])/30).apply (lambda x: x.days).astype(int)\n",
    "\n",
    "# Promo since\n",
    "df2['promo_since'] = df2['promo2_since_year'].astype(str) + '-' + df2['promo2_since_week'].astype(str)\n",
    "\n",
    "df2['promo_since'] = df2['promo_since'].apply(lambda x: datetime.datetime.strptime(x + '-1', '%Y-%W-%w')-datetime.timedelta(days=7))\n",
    "\n",
    "df2['promo_time_week'] = ((df2['date'] - df2['promo_since'])/7).apply(lambda x: x.days).astype(int)\n",
    "\n",
    "# Assortment\n",
    "df2['assortment'] = df2['assortment'].apply(lambda x: 'basic' if x == 'a' else 'extra' if x == 'b' else 'extended')\n",
    "\n",
    "# State holiday\n",
    "df2['state_holiday'] = df2['state_holiday'].apply(lambda x: 'public_holiday' if x == 'a' else 'easter_holiday' if x == 'b' else 'christmas' if x == 'c' else 'regular_day')"
   ]
  },
  {
   "cell_type": "code",
   "execution_count": 43,
   "id": "e96f2721",
   "metadata": {
    "ExecuteTime": {
     "end_time": "2022-09-08T04:12:43.709715Z",
     "start_time": "2022-09-08T04:12:43.701602Z"
    },
    "hidden": true
   },
   "outputs": [
    {
     "data": {
      "text/html": [
       "<div>\n",
       "<style scoped>\n",
       "    .dataframe tbody tr th:only-of-type {\n",
       "        vertical-align: middle;\n",
       "    }\n",
       "\n",
       "    .dataframe tbody tr th {\n",
       "        vertical-align: top;\n",
       "    }\n",
       "\n",
       "    .dataframe thead th {\n",
       "        text-align: right;\n",
       "    }\n",
       "</style>\n",
       "<table border=\"1\" class=\"dataframe\">\n",
       "  <thead>\n",
       "    <tr style=\"text-align: right;\">\n",
       "      <th></th>\n",
       "      <th>0</th>\n",
       "      <th>1</th>\n",
       "      <th>2</th>\n",
       "      <th>3</th>\n",
       "      <th>4</th>\n",
       "    </tr>\n",
       "  </thead>\n",
       "  <tbody>\n",
       "    <tr>\n",
       "      <th>store</th>\n",
       "      <td>1</td>\n",
       "      <td>2</td>\n",
       "      <td>3</td>\n",
       "      <td>4</td>\n",
       "      <td>5</td>\n",
       "    </tr>\n",
       "    <tr>\n",
       "      <th>day_of_week</th>\n",
       "      <td>5</td>\n",
       "      <td>5</td>\n",
       "      <td>5</td>\n",
       "      <td>5</td>\n",
       "      <td>5</td>\n",
       "    </tr>\n",
       "    <tr>\n",
       "      <th>date</th>\n",
       "      <td>2015-07-31 00:00:00</td>\n",
       "      <td>2015-07-31 00:00:00</td>\n",
       "      <td>2015-07-31 00:00:00</td>\n",
       "      <td>2015-07-31 00:00:00</td>\n",
       "      <td>2015-07-31 00:00:00</td>\n",
       "    </tr>\n",
       "    <tr>\n",
       "      <th>sales</th>\n",
       "      <td>5263</td>\n",
       "      <td>6064</td>\n",
       "      <td>8314</td>\n",
       "      <td>13995</td>\n",
       "      <td>4822</td>\n",
       "    </tr>\n",
       "    <tr>\n",
       "      <th>customers</th>\n",
       "      <td>555</td>\n",
       "      <td>625</td>\n",
       "      <td>821</td>\n",
       "      <td>1498</td>\n",
       "      <td>559</td>\n",
       "    </tr>\n",
       "    <tr>\n",
       "      <th>open</th>\n",
       "      <td>1</td>\n",
       "      <td>1</td>\n",
       "      <td>1</td>\n",
       "      <td>1</td>\n",
       "      <td>1</td>\n",
       "    </tr>\n",
       "    <tr>\n",
       "      <th>promo</th>\n",
       "      <td>1</td>\n",
       "      <td>1</td>\n",
       "      <td>1</td>\n",
       "      <td>1</td>\n",
       "      <td>1</td>\n",
       "    </tr>\n",
       "    <tr>\n",
       "      <th>state_holiday</th>\n",
       "      <td>regular_day</td>\n",
       "      <td>regular_day</td>\n",
       "      <td>regular_day</td>\n",
       "      <td>regular_day</td>\n",
       "      <td>regular_day</td>\n",
       "    </tr>\n",
       "    <tr>\n",
       "      <th>school_holiday</th>\n",
       "      <td>1</td>\n",
       "      <td>1</td>\n",
       "      <td>1</td>\n",
       "      <td>1</td>\n",
       "      <td>1</td>\n",
       "    </tr>\n",
       "    <tr>\n",
       "      <th>store_type</th>\n",
       "      <td>c</td>\n",
       "      <td>a</td>\n",
       "      <td>a</td>\n",
       "      <td>c</td>\n",
       "      <td>a</td>\n",
       "    </tr>\n",
       "    <tr>\n",
       "      <th>assortment</th>\n",
       "      <td>basic</td>\n",
       "      <td>basic</td>\n",
       "      <td>basic</td>\n",
       "      <td>extended</td>\n",
       "      <td>basic</td>\n",
       "    </tr>\n",
       "    <tr>\n",
       "      <th>competition_distance</th>\n",
       "      <td>1270.0</td>\n",
       "      <td>570.0</td>\n",
       "      <td>14130.0</td>\n",
       "      <td>620.0</td>\n",
       "      <td>29910.0</td>\n",
       "    </tr>\n",
       "    <tr>\n",
       "      <th>competition_open_since_month</th>\n",
       "      <td>9</td>\n",
       "      <td>11</td>\n",
       "      <td>12</td>\n",
       "      <td>9</td>\n",
       "      <td>4</td>\n",
       "    </tr>\n",
       "    <tr>\n",
       "      <th>competition_open_since_year</th>\n",
       "      <td>2008</td>\n",
       "      <td>2007</td>\n",
       "      <td>2006</td>\n",
       "      <td>2009</td>\n",
       "      <td>2015</td>\n",
       "    </tr>\n",
       "    <tr>\n",
       "      <th>promo2</th>\n",
       "      <td>0</td>\n",
       "      <td>1</td>\n",
       "      <td>1</td>\n",
       "      <td>0</td>\n",
       "      <td>0</td>\n",
       "    </tr>\n",
       "    <tr>\n",
       "      <th>promo2_since_week</th>\n",
       "      <td>31</td>\n",
       "      <td>13</td>\n",
       "      <td>14</td>\n",
       "      <td>31</td>\n",
       "      <td>31</td>\n",
       "    </tr>\n",
       "    <tr>\n",
       "      <th>promo2_since_year</th>\n",
       "      <td>2015</td>\n",
       "      <td>2010</td>\n",
       "      <td>2011</td>\n",
       "      <td>2015</td>\n",
       "      <td>2015</td>\n",
       "    </tr>\n",
       "    <tr>\n",
       "      <th>promo_interval</th>\n",
       "      <td>0</td>\n",
       "      <td>Jan,Apr,Jul,Oct</td>\n",
       "      <td>Jan,Apr,Jul,Oct</td>\n",
       "      <td>0</td>\n",
       "      <td>0</td>\n",
       "    </tr>\n",
       "    <tr>\n",
       "      <th>month_map</th>\n",
       "      <td>Jul</td>\n",
       "      <td>Jul</td>\n",
       "      <td>Jul</td>\n",
       "      <td>Jul</td>\n",
       "      <td>Jul</td>\n",
       "    </tr>\n",
       "    <tr>\n",
       "      <th>is_promo</th>\n",
       "      <td>0</td>\n",
       "      <td>1</td>\n",
       "      <td>1</td>\n",
       "      <td>0</td>\n",
       "      <td>0</td>\n",
       "    </tr>\n",
       "    <tr>\n",
       "      <th>year</th>\n",
       "      <td>2015</td>\n",
       "      <td>2015</td>\n",
       "      <td>2015</td>\n",
       "      <td>2015</td>\n",
       "      <td>2015</td>\n",
       "    </tr>\n",
       "    <tr>\n",
       "      <th>month</th>\n",
       "      <td>7</td>\n",
       "      <td>7</td>\n",
       "      <td>7</td>\n",
       "      <td>7</td>\n",
       "      <td>7</td>\n",
       "    </tr>\n",
       "    <tr>\n",
       "      <th>day</th>\n",
       "      <td>31</td>\n",
       "      <td>31</td>\n",
       "      <td>31</td>\n",
       "      <td>31</td>\n",
       "      <td>31</td>\n",
       "    </tr>\n",
       "    <tr>\n",
       "      <th>week_of_year</th>\n",
       "      <td>31</td>\n",
       "      <td>31</td>\n",
       "      <td>31</td>\n",
       "      <td>31</td>\n",
       "      <td>31</td>\n",
       "    </tr>\n",
       "    <tr>\n",
       "      <th>year_week</th>\n",
       "      <td>2015-30</td>\n",
       "      <td>2015-30</td>\n",
       "      <td>2015-30</td>\n",
       "      <td>2015-30</td>\n",
       "      <td>2015-30</td>\n",
       "    </tr>\n",
       "    <tr>\n",
       "      <th>competition_since</th>\n",
       "      <td>2008-09-01 00:00:00</td>\n",
       "      <td>2007-11-01 00:00:00</td>\n",
       "      <td>2006-12-01 00:00:00</td>\n",
       "      <td>2009-09-01 00:00:00</td>\n",
       "      <td>2015-04-01 00:00:00</td>\n",
       "    </tr>\n",
       "    <tr>\n",
       "      <th>competition_time_month</th>\n",
       "      <td>84</td>\n",
       "      <td>94</td>\n",
       "      <td>105</td>\n",
       "      <td>71</td>\n",
       "      <td>4</td>\n",
       "    </tr>\n",
       "    <tr>\n",
       "      <th>promo_since</th>\n",
       "      <td>2015-07-27 00:00:00</td>\n",
       "      <td>2010-03-22 00:00:00</td>\n",
       "      <td>2011-03-28 00:00:00</td>\n",
       "      <td>2015-07-27 00:00:00</td>\n",
       "      <td>2015-07-27 00:00:00</td>\n",
       "    </tr>\n",
       "    <tr>\n",
       "      <th>promo_time_week</th>\n",
       "      <td>0</td>\n",
       "      <td>279</td>\n",
       "      <td>226</td>\n",
       "      <td>0</td>\n",
       "      <td>0</td>\n",
       "    </tr>\n",
       "  </tbody>\n",
       "</table>\n",
       "</div>"
      ],
      "text/plain": [
       "                                                0                    1  \\\n",
       "store                                           1                    2   \n",
       "day_of_week                                     5                    5   \n",
       "date                          2015-07-31 00:00:00  2015-07-31 00:00:00   \n",
       "sales                                        5263                 6064   \n",
       "customers                                     555                  625   \n",
       "open                                            1                    1   \n",
       "promo                                           1                    1   \n",
       "state_holiday                         regular_day          regular_day   \n",
       "school_holiday                                  1                    1   \n",
       "store_type                                      c                    a   \n",
       "assortment                                  basic                basic   \n",
       "competition_distance                       1270.0                570.0   \n",
       "competition_open_since_month                    9                   11   \n",
       "competition_open_since_year                  2008                 2007   \n",
       "promo2                                          0                    1   \n",
       "promo2_since_week                              31                   13   \n",
       "promo2_since_year                            2015                 2010   \n",
       "promo_interval                                  0      Jan,Apr,Jul,Oct   \n",
       "month_map                                     Jul                  Jul   \n",
       "is_promo                                        0                    1   \n",
       "year                                         2015                 2015   \n",
       "month                                           7                    7   \n",
       "day                                            31                   31   \n",
       "week_of_year                                   31                   31   \n",
       "year_week                                 2015-30              2015-30   \n",
       "competition_since             2008-09-01 00:00:00  2007-11-01 00:00:00   \n",
       "competition_time_month                         84                   94   \n",
       "promo_since                   2015-07-27 00:00:00  2010-03-22 00:00:00   \n",
       "promo_time_week                                 0                  279   \n",
       "\n",
       "                                                2                    3  \\\n",
       "store                                           3                    4   \n",
       "day_of_week                                     5                    5   \n",
       "date                          2015-07-31 00:00:00  2015-07-31 00:00:00   \n",
       "sales                                        8314                13995   \n",
       "customers                                     821                 1498   \n",
       "open                                            1                    1   \n",
       "promo                                           1                    1   \n",
       "state_holiday                         regular_day          regular_day   \n",
       "school_holiday                                  1                    1   \n",
       "store_type                                      a                    c   \n",
       "assortment                                  basic             extended   \n",
       "competition_distance                      14130.0                620.0   \n",
       "competition_open_since_month                   12                    9   \n",
       "competition_open_since_year                  2006                 2009   \n",
       "promo2                                          1                    0   \n",
       "promo2_since_week                              14                   31   \n",
       "promo2_since_year                            2011                 2015   \n",
       "promo_interval                    Jan,Apr,Jul,Oct                    0   \n",
       "month_map                                     Jul                  Jul   \n",
       "is_promo                                        1                    0   \n",
       "year                                         2015                 2015   \n",
       "month                                           7                    7   \n",
       "day                                            31                   31   \n",
       "week_of_year                                   31                   31   \n",
       "year_week                                 2015-30              2015-30   \n",
       "competition_since             2006-12-01 00:00:00  2009-09-01 00:00:00   \n",
       "competition_time_month                        105                   71   \n",
       "promo_since                   2011-03-28 00:00:00  2015-07-27 00:00:00   \n",
       "promo_time_week                               226                    0   \n",
       "\n",
       "                                                4  \n",
       "store                                           5  \n",
       "day_of_week                                     5  \n",
       "date                          2015-07-31 00:00:00  \n",
       "sales                                        4822  \n",
       "customers                                     559  \n",
       "open                                            1  \n",
       "promo                                           1  \n",
       "state_holiday                         regular_day  \n",
       "school_holiday                                  1  \n",
       "store_type                                      a  \n",
       "assortment                                  basic  \n",
       "competition_distance                      29910.0  \n",
       "competition_open_since_month                    4  \n",
       "competition_open_since_year                  2015  \n",
       "promo2                                          0  \n",
       "promo2_since_week                              31  \n",
       "promo2_since_year                            2015  \n",
       "promo_interval                                  0  \n",
       "month_map                                     Jul  \n",
       "is_promo                                        0  \n",
       "year                                         2015  \n",
       "month                                           7  \n",
       "day                                            31  \n",
       "week_of_year                                   31  \n",
       "year_week                                 2015-30  \n",
       "competition_since             2015-04-01 00:00:00  \n",
       "competition_time_month                          4  \n",
       "promo_since                   2015-07-27 00:00:00  \n",
       "promo_time_week                                 0  "
      ]
     },
     "execution_count": 43,
     "metadata": {},
     "output_type": "execute_result"
    }
   ],
   "source": [
    "df2.head().T"
   ]
  },
  {
   "cell_type": "code",
   "execution_count": null,
   "id": "d6d00c00",
   "metadata": {
    "hidden": true
   },
   "outputs": [],
   "source": []
  },
  {
   "cell_type": "code",
   "execution_count": null,
   "id": "71f9040e",
   "metadata": {
    "hidden": true
   },
   "outputs": [],
   "source": []
  },
  {
   "cell_type": "code",
   "execution_count": null,
   "id": "6fd05a46",
   "metadata": {
    "hidden": true
   },
   "outputs": [],
   "source": []
  },
  {
   "cell_type": "code",
   "execution_count": null,
   "id": "1d233bfa",
   "metadata": {
    "hidden": true
   },
   "outputs": [],
   "source": []
  },
  {
   "cell_type": "code",
   "execution_count": null,
   "id": "557dd538",
   "metadata": {
    "hidden": true
   },
   "outputs": [],
   "source": []
  },
  {
   "cell_type": "code",
   "execution_count": null,
   "id": "ad51a482",
   "metadata": {
    "hidden": true
   },
   "outputs": [],
   "source": []
  }
 ],
 "metadata": {
  "kernelspec": {
   "display_name": "Python 3 (ipykernel)",
   "language": "python",
   "name": "python3"
  },
  "language_info": {
   "codemirror_mode": {
    "name": "ipython",
    "version": 3
   },
   "file_extension": ".py",
   "mimetype": "text/x-python",
   "name": "python",
   "nbconvert_exporter": "python",
   "pygments_lexer": "ipython3",
   "version": "3.9.12"
  },
  "latex_envs": {
   "LaTeX_envs_menu_present": true,
   "autoclose": false,
   "autocomplete": true,
   "bibliofile": "biblio.bib",
   "cite_by": "apalike",
   "current_citInitial": 1,
   "eqLabelWithNumbers": true,
   "eqNumInitial": 1,
   "hotkeys": {
    "equation": "Ctrl-E",
    "itemize": "Ctrl-I"
   },
   "labels_anchors": false,
   "latex_user_defs": false,
   "report_style_numbering": false,
   "user_envs_cfg": false
  },
  "varInspector": {
   "cols": {
    "lenName": 16,
    "lenType": 16,
    "lenVar": 40
   },
   "kernels_config": {
    "python": {
     "delete_cmd_postfix": "",
     "delete_cmd_prefix": "del ",
     "library": "var_list.py",
     "varRefreshCmd": "print(var_dic_list())"
    },
    "r": {
     "delete_cmd_postfix": ") ",
     "delete_cmd_prefix": "rm(",
     "library": "var_list.r",
     "varRefreshCmd": "cat(var_dic_list()) "
    }
   },
   "types_to_exclude": [
    "module",
    "function",
    "builtin_function_or_method",
    "instance",
    "_Feature"
   ],
   "window_display": false
  }
 },
 "nbformat": 4,
 "nbformat_minor": 5
}
